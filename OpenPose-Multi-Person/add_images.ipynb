{
 "cells": [
  {
   "cell_type": "code",
   "execution_count": 1,
   "metadata": {},
   "outputs": [],
   "source": [
    "import requests\n",
    "import shutil"
   ]
  },
  {
   "cell_type": "code",
   "execution_count": 2,
   "metadata": {},
   "outputs": [
    {
     "name": "stdout",
     "output_type": "stream",
     "text": [
      "105\n"
     ]
    }
   ],
   "source": [
    "filename = \"../mountainposes_urls.txt\"\n",
    "with open(filename) as fp:\n",
    "    urls = fp.readlines()\n",
    "i = 0\n",
    "for url in urls:\n",
    "    urls[i] = url.strip('\\n')\n",
    "    i+=1\n",
    "\n",
    "print(len(urls))"
   ]
  },
  {
   "cell_type": "code",
   "execution_count": 4,
   "metadata": {},
   "outputs": [
    {
     "name": "stdout",
     "output_type": "stream",
     "text": [
      "saved 205 photos\n"
     ]
    }
   ],
   "source": [
    "dest = \"../mountain_addl/\"\n",
    "file_inc = 200\n",
    "\n",
    "for url in urls:\n",
    "# Open the url image, set stream to True, this will return the stream content.\n",
    "    resp = requests.get(url, stream=True)\n",
    "# Open a local file with wb ( write binary ) permission.\n",
    "    filetype = \"\"\n",
    "    if \".png\" in url:\n",
    "        filetype = \".png\"\n",
    "    else:\n",
    "        filetype = \".jpg\"\n",
    "    local_file = open(dest + \"File\" + str(file_inc) + filetype, 'wb')\n",
    "    file_inc += 1\n",
    "# Set decode_content value to True, otherwise the downloaded image file's size will be zero.\n",
    "    resp.raw.decode_content = True\n",
    "# Copy the response stream raw data to local image file.\n",
    "    shutil.copyfileobj(resp.raw, local_file)\n",
    "# Remove the image url response object.\n",
    "    del resp\n",
    "\n",
    "print(\"saved \" + str(file_inc - 100) + \" photos\")"
   ]
  },
  {
   "cell_type": "code",
   "execution_count": 5,
   "metadata": {},
   "outputs": [
    {
     "name": "stdout",
     "output_type": "stream",
     "text": [
      "305\n"
     ]
    }
   ],
   "source": [
    "print(file_inc)"
   ]
  },
  {
   "cell_type": "code",
   "execution_count": 10,
   "metadata": {},
   "outputs": [
    {
     "name": "stdout",
     "output_type": "stream",
     "text": [
      "https://www.bikramnl.com/wp-content/uploads/2018/04/triangle-pose-1-495x400.jpg\n"
     ]
    }
   ],
   "source": [
    "print(urls[95])"
   ]
  },
  {
   "cell_type": "code",
   "execution_count": null,
   "metadata": {},
   "outputs": [],
   "source": []
  }
 ],
 "metadata": {
  "kernelspec": {
   "display_name": "Python 3",
   "language": "python",
   "name": "python3"
  },
  "language_info": {
   "codemirror_mode": {
    "name": "ipython",
    "version": 3
   },
   "file_extension": ".py",
   "mimetype": "text/x-python",
   "name": "python",
   "nbconvert_exporter": "python",
   "pygments_lexer": "ipython3",
   "version": "3.7.4"
  }
 },
 "nbformat": 4,
 "nbformat_minor": 2
}
