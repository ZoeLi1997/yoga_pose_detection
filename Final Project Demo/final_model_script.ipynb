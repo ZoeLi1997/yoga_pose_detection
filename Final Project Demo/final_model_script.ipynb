{
 "cells": [
  {
   "cell_type": "code",
   "execution_count": 1,
   "metadata": {},
   "outputs": [
    {
     "name": "stderr",
     "output_type": "stream",
     "text": [
      "Using TensorFlow backend.\n"
     ]
    }
   ],
   "source": [
    "import numpy as np\n",
    "import sklearn\n",
    "import matplotlib.pyplot as plt\n",
    "%matplotlib inline\n",
    "import matplotlib\n",
    "import os\n",
    "from random import randint\n",
    "from os.path import isfile, join\n",
    "from keras.models import load_model\n",
    "import A2_Functions as a2"
   ]
  },
  {
   "cell_type": "code",
   "execution_count": 5,
   "metadata": {},
   "outputs": [],
   "source": [
    "model = load_model(\"../yoga_pals_model.h5\")\n",
    "save_file = \"output.png\"\n",
    "read_file = \"fromclient.jpg\"\n",
    "pose_file = \"predicted_pose.txt\""
   ]
  },
  {
   "cell_type": "code",
   "execution_count": 7,
   "metadata": {},
   "outputs": [
    {
     "name": "stdout",
     "output_type": "stream",
     "text": [
      "Our model predicted that your pose is: Warrior 2\n"
     ]
    }
   ],
   "source": [
    "a2.perform_keypoint_analysis(read_file)\n",
    "results = a2.scale_keypoints(read_file)\n",
    "predicted_pose = a2.predict_pose(model.predict(np.array([results])))\n",
    "with open(pose_file, \"w\") as fp:\n",
    "    fp.write(predicted_pose)\n",
    "#print(\"Our model predicted that your pose is: \" + predicted_pose)"
   ]
  },
  {
   "cell_type": "code",
   "execution_count": null,
   "metadata": {},
   "outputs": [],
   "source": []
  }
 ],
 "metadata": {
  "kernelspec": {
   "display_name": "Python 3",
   "language": "python",
   "name": "python3"
  },
  "language_info": {
   "codemirror_mode": {
    "name": "ipython",
    "version": 3
   },
   "file_extension": ".py",
   "mimetype": "text/x-python",
   "name": "python",
   "nbconvert_exporter": "python",
   "pygments_lexer": "ipython3",
   "version": "3.7.4"
  }
 },
 "nbformat": 4,
 "nbformat_minor": 2
}
