{
 "cells": [
  {
   "cell_type": "code",
   "execution_count": 1,
   "metadata": {},
   "outputs": [
    {
     "name": "stderr",
     "output_type": "stream",
     "text": [
      "Using TensorFlow backend.\n"
     ]
    }
   ],
   "source": [
    "import numpy as np\n",
    "import sklearn\n",
    "import os\n",
    "from random import randint\n",
    "from os.path import isfile, join\n",
    "from keras.models import load_model\n",
    "import A2_Functions as a2"
   ]
  },
  {
   "cell_type": "code",
   "execution_count": 7,
   "metadata": {},
   "outputs": [],
   "source": [
    "model = load_model(\"../yoga_pals_model.h5\")\n",
    "save_file = \"output.png\"\n",
    "read_file = \"../datasets/training_set/triangle/File29.jpg\"#\"Images/Triangle.png\"#\"fromclient.jpg\"\n",
    "pose_file = \"predicted_pose.txt\""
   ]
  },
  {
   "cell_type": "code",
   "execution_count": 8,
   "metadata": {},
   "outputs": [
    {
     "name": "stdout",
     "output_type": "stream",
     "text": [
      "Error: Photo did not pass filter.\n"
     ]
    }
   ],
   "source": [
    "detected_keypoints, frameClone, image = a2.perform_keypoint_analysis(read_file)\n",
    "missing = []\n",
    "found = []\n",
    "i = 0\n",
    "for el in detected_keypoints:\n",
    "    if el == []:\n",
    "        missing.append(i)\n",
    "    else:\n",
    "        found.append(i)\n",
    "    i += 1\n",
    "if a2.apply_filter(missing) is True:\n",
    "    results = a2.scale_keypoints(read_file)\n",
    "    predicted_pose = a2.predict_pose(model.predict(np.array([results])))\n",
    "    with open(pose_file, \"w\") as fp:\n",
    "        fp.write(predicted_pose)\n",
    "    print(\"Our model predicted that your pose is: \" + predicted_pose)\n",
    "else:\n",
    "    with open(pose_file, \"w\") as fp:\n",
    "        fp.write(\"Error: Photo did not pass filter.\")\n",
    "    print(\"Error: Photo did not pass filter.\")"
   ]
  },
  {
   "cell_type": "code",
   "execution_count": null,
   "metadata": {},
   "outputs": [],
   "source": []
  },
  {
   "cell_type": "code",
   "execution_count": null,
   "metadata": {},
   "outputs": [],
   "source": []
  }
 ],
 "metadata": {
  "kernelspec": {
   "display_name": "Python 3",
   "language": "python",
   "name": "python3"
  },
  "language_info": {
   "codemirror_mode": {
    "name": "ipython",
    "version": 3
   },
   "file_extension": ".py",
   "mimetype": "text/x-python",
   "name": "python",
   "nbconvert_exporter": "python",
   "pygments_lexer": "ipython3",
   "version": "3.7.4"
  }
 },
 "nbformat": 4,
 "nbformat_minor": 2
}
