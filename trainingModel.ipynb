{
 "cells": [
  {
   "cell_type": "code",
   "execution_count": null,
   "metadata": {},
   "outputs": [
    {
     "name": "stderr",
     "output_type": "stream",
     "text": [
      "Using TensorFlow backend.\n"
     ]
    }
   ],
   "source": [
    "import keras \n",
    "from keras.models import Sequential\n",
    "from keras.layers import Dense\n",
    "import numpy as np\n",
    "import pandas as pd\n",
    "import csv\n"
   ]
  },
  {
   "cell_type": "code",
   "execution_count": 8,
   "metadata": {},
   "outputs": [
    {
     "name": "stdout",
     "output_type": "stream",
     "text": [
      "        label     Nosex     Nosey     Neckx     Necky    R-Shox    R-Shoy  \\\n",
      "0    mountain  0.217391  0.019324  0.231884  0.159420  0.130435  0.159420   \n",
      "1    mountain  0.185792  0.010929  0.163934  0.153005  0.071038  0.153005   \n",
      "2    mountain  0.199074  0.023148  0.199074  0.175926  0.097222  0.175926   \n",
      "3    mountain  0.136929  0.020747  0.141079  0.161826  0.053942  0.178423   \n",
      "4    mountain  0.173184  0.011173  0.195531  0.156425  0.083799  0.156425   \n",
      "..        ...       ...       ...       ...       ...       ...       ...   \n",
      "129  mountain  0.157143  0.028571  0.157143  0.185714  0.061905  0.180952   \n",
      "130  mountain  0.185714  0.028571  0.185714  0.185714  0.090476  0.185714   \n",
      "131  mountain  0.181994  0.001936  0.181994  0.152953  0.060987  0.152953   \n",
      "132  mountain  0.231884  0.004831  0.227053  0.169082  0.130435  0.169082   \n",
      "133  mountain  0.189542  0.029412  0.189542  0.107843  0.078431  0.107843   \n",
      "\n",
      "       R-Elbx    R-Elby  R-Wrx  ...    L-Ankx  L-Anky    R-Eyex    R-Eyey  \\\n",
      "0    0.077295  0.338164    0.0  ...  0.265700     1.0  0.193237  0.014493   \n",
      "1    0.038251  0.327869    0.0  ...  0.213115     1.0  0.158470  0.000000   \n",
      "2    0.069444  0.361111    0.0  ...  0.231481     1.0  0.175926  0.000000   \n",
      "3    0.029046  0.344398    0.0  ...  0.269710     1.0  0.132780  0.000000   \n",
      "4    0.050279  0.335196    0.0  ...  0.206704     1.0  0.167598  0.005587   \n",
      "..        ...       ...    ...  ...       ...     ...       ...       ...   \n",
      "129  0.033333  0.319048    0.0  ...  0.190476     1.0  0.152381  0.000000   \n",
      "130  0.057143  0.338095    0.0  ...  0.190476     1.0  0.157143  0.000000   \n",
      "131  0.060019  0.334947    0.0  ...  0.212004     1.0  0.151985  0.000000   \n",
      "132  0.067633  0.338164    0.0  ...  0.236715     1.0  0.198068  0.000000   \n",
      "133  0.049020  0.297386    0.0  ...  0.209150     1.0  0.183007  0.003268   \n",
      "\n",
      "       L-Eyex    L-Eyey    R-Earx    R-Eary    L-Earx    L-Eary  \n",
      "0    0.241546  0.000000  0.183575  0.038647  0.270531  0.024155  \n",
      "1    0.207650  0.000000  0.125683  0.005464  0.240437  0.005464  \n",
      "2    0.222222  0.000000  0.143519  0.023148  0.254630  0.023148  \n",
      "3    0.161826  0.000000  0.107884  0.024896  0.190871  0.029046  \n",
      "4    0.201117  0.000000  0.117318  0.005587  0.234637  0.005587  \n",
      "..        ...       ...       ...       ...       ...       ...  \n",
      "129  0.185714  0.000000  0.123810  0.033333  0.219048  0.033333  \n",
      "130  0.190476  0.000000  0.123810  0.033333  0.219048  0.033333  \n",
      "131  0.211036  0.000000  0.121007  0.000968  0.242014  0.000968  \n",
      "132  0.256039  0.000000  0.164251  0.009662  0.265700  0.009662  \n",
      "133  0.212418  0.003268  0.137255  0.000000  0.261438  0.003268  \n",
      "\n",
      "[134 rows x 37 columns]\n"
     ]
    }
   ],
   "source": [
    "train = pd.read_csv(\"OpenPose-Multi-Person/scaled_data.csv\")\n",
    "\n",
    "print(train)\n"
   ]
  },
  {
   "cell_type": "code",
   "execution_count": 19,
   "metadata": {},
   "outputs": [
    {
     "name": "stdout",
     "output_type": "stream",
     "text": [
      "[[0.20772947 0.49275362 0.02415459 ... 0.07729469 0.23188406 0.2173913 ]\n",
      " [0.15300546 0.47540984 0.00546448 ... 0.03825137 0.16393443 0.18579235]\n",
      " [0.14814815 0.49537037 0.02314815 ... 0.06944444 0.19907407 0.19907407]\n",
      " ...\n",
      " [0.15101646 0.51597289 0.00096805 ... 0.06001936 0.18199419 0.18199419]\n",
      " [0.19323671 0.49758454 0.00966184 ... 0.06763285 0.22705314 0.23188406]\n",
      " [0.15686275 0.48366013 0.00326797 ... 0.04901961 0.18954248 0.18954248]]\n",
      "[0 0 0 0 0 0 0 0 0 0 0 0 0 0 0 0 0 0 0 0 0 0 0 0 0 0 0 0 0 0 0 0 0 0 0 0 0\n",
      " 0 0 0 0 0 0 0 0 0 0 0 0 0 0 0 0 0 0 0 0 0 0 0 0 0 0 0 0 0 0 0 0 0 0 0 0 0\n",
      " 0 0 0 0 0 0 0 0 0 0 0 0 0 0 0 0 0 0 0 0 0 0 0 0 0 0 0 0 0 0 0 0 0 0 0 0 0\n",
      " 0 0 0 0 0 0 0 0 0 0 0 0 0 0 0 0 0 0 0 0 0 0 0]\n"
     ]
    }
   ],
   "source": [
    "features = train.columns\n",
    "features = list(set(list(features[1:])))\n",
    "train.label = 0\n",
    "X = train[features].values\n",
    "Y = train.label.values\n",
    "\n",
    "print(X)\n",
    "print(Y)"
   ]
  },
  {
   "cell_type": "code",
   "execution_count": 21,
   "metadata": {},
   "outputs": [
    {
     "name": "stdout",
     "output_type": "stream",
     "text": [
      "Epoch 1/4\n",
      "134/134 [==============================] - 1s 5ms/step - loss: 0.0059 - accuracy: 1.0000\n",
      "Epoch 2/4\n",
      "134/134 [==============================] - 0s 67us/step - loss: 0.0000e+00 - accuracy: 0.9925\n",
      "Epoch 3/4\n",
      "134/134 [==============================] - 0s 72us/step - loss: 0.0000e+00 - accuracy: 0.9925\n",
      "Epoch 4/4\n",
      "134/134 [==============================] - 0s 133us/step - loss: 0.0000e+00 - accuracy: 0.9925\n",
      "Model: \"sequential_5\"\n",
      "_________________________________________________________________\n",
      "Layer (type)                 Output Shape              Param #   \n",
      "=================================================================\n",
      "dense_13 (Dense)             (None, 100)               3700      \n",
      "_________________________________________________________________\n",
      "dense_14 (Dense)             (None, 50)                5050      \n",
      "_________________________________________________________________\n",
      "dense_15 (Dense)             (None, 1)                 51        \n",
      "=================================================================\n",
      "Total params: 8,801\n",
      "Trainable params: 8,801\n",
      "Non-trainable params: 0\n",
      "_________________________________________________________________\n"
     ]
    }
   ],
   "source": [
    "model = Sequential()\n",
    "model.add(Dense(100,activation='relu'))\n",
    "model.add(Dense(50,activation='relu'))\n",
    "model.add(Dense(1))\n",
    "model.compile(optimizer='rmsprop',loss='binary_crossentropy',metrics=['accuracy'])\n",
    "\n",
    "model.fit(X,Y,epochs=4,batch_size=100)\n",
    "\n",
    "#epochs <- how many times the NN is trained\n",
    "\n",
    "#batch_size <- splits the data into batches. Uses\n",
    "\n",
    "#results = model.evaluate(x_testing,y_testing)\n",
    "model.summary()"
   ]
  },
  {
   "cell_type": "code",
   "execution_count": null,
   "metadata": {},
   "outputs": [],
   "source": []
  }
 ],
 "metadata": {
  "kernelspec": {
   "display_name": "Python 3",
   "language": "python",
   "name": "python3"
  },
  "language_info": {
   "codemirror_mode": {
    "name": "ipython",
    "version": 3
   },
   "file_extension": ".py",
   "mimetype": "text/x-python",
   "name": "python",
   "nbconvert_exporter": "python",
   "pygments_lexer": "ipython3",
   "version": "3.7.3"
  }
 },
 "nbformat": 4,
 "nbformat_minor": 2
}
